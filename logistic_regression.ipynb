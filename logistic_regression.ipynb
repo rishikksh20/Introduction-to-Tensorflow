{
 "cells": [
  {
   "cell_type": "markdown",
   "metadata": {},
   "source": [
    "# Logistic Regression"
   ]
  },
  {
   "cell_type": "markdown",
   "metadata": {},
   "source": [
    "**Logistic regression** is the appropriate regression analysis to conduct when the dependent variable is dichotomous (binary).  Like all regression analyses, the logistic regression is a predictive analysis.  Logistic regression is used to describe data and to explain the relationship between one dependent binary variable and one or more nominal, ordinal, interval or ratio-level independent variables."
   ]
  },
  {
   "cell_type": "markdown",
   "metadata": {},
   "source": [
    "\\begin{equation*}\n",
    "P(y=1|\\ x)=\\ \\frac{1}{1-e^{-x*\\beta}}\n",
    "\\end{equation*}\n"
   ]
  },
  {
   "cell_type": "markdown",
   "metadata": {
    "collapsed": true
   },
   "source": [
    "### Linear regression: \\begin{equation*}  h_\\theta(x) = \\theta^Tx \\end{equation*}\n",
    "\\begin{align}  where : \\theta = weight\\ matrix \\ \\ i.e \\ \\ [b_0,b_1,b_2,......,b_n] \\\\\n",
    "\\ \\  \\ \\ X = feature\\ matrix \\ \\ i.e \\ \\ [x_0,x_1,x_2,.......,x_n]\n",
    "\\end{align}\n",
    "                            \n",
    "### \\begin{equation*}  h_\\theta(x) = \\ b_0x_0\\ + \\ b_1x_1\\ + \\ b_2x_2\\ + ......+ \\ b_nx_n \\ = \\sum_{i=0}^{n}b_ix_i \\end{equation*}\n",
    "\\begin{align}\n",
    "where : n = number \\ of \\ features \\\\\n",
    "\\end{align}"
   ]
  },
  {
   "cell_type": "markdown",
   "metadata": {},
   "source": [
    "### Logistic regression:  \\begin{equation*}  h_\\theta(x) = \\ g(\\  \\theta^Tx )\\end{equation*}\n",
    "\n",
    "\\begin{equation*}\n",
    "g(z)=\\ \\frac{1}{1-e^{-z}}\n",
    "\\end{equation*}\n",
    "\n",
    "\\begin{equation*}where :\\ z= \\sum_{i=0}^{n}b_ix_i = \\theta^Tx  \\end{equation*}"
   ]
  },
  {
   "cell_type": "markdown",
   "metadata": {},
   "source": [
    "<center><img src=\"files\\logit.jpg\" /></center>"
   ]
  },
  {
   "cell_type": "markdown",
   "metadata": {},
   "source": [
    "## Cost Function: \n",
    "\\begin{equation*}\n",
    "J(\\theta)=\\frac{1}{m} \\sum_{i=1}^{m}Cost\\ (\\ h_\\theta(x^i)\\ ,\\ y^i)\\\\\n",
    "\\\\\n",
    "where: m = number \\ of \\ training \\ examples\n",
    "\\end{equation*}\n",
    "<br />\n",
    "<br />\n",
    "\\begin{equation*}Cost\\ (\\ h_\\theta(x)\\ ,\\ y)= \\begin{cases} -\\log(h_\\theta(x)), & \\text{if $y$=1 }\\\\[2ex] -\\log(1-h_\\theta(x)), & \\text{if $y$=0 } \\end{cases} \\end{equation*}"
   ]
  },
  {
   "cell_type": "markdown",
   "metadata": {},
   "source": [
    "\\begin{equation*}\n",
    "Cost\\ (\\ h_\\theta(x)\\ ,\\ y)= -y\\ \\log(h_\\theta(x)) - (1-y)\\ \\log(1-h_\\theta(x))\n",
    "\\end{equation*}"
   ]
  },
  {
   "cell_type": "markdown",
   "metadata": {},
   "source": [
    "<h3>Our Aim to minimize : $$J(\\theta)$$ </h3> "
   ]
  },
  {
   "cell_type": "markdown",
   "metadata": {},
   "source": [
    "\\begin{equation*}\n",
    "\\min_{\\theta}{J(\\theta)}= -\\frac{1}{m}\n",
    "\\left[  \\sum_{i=1}^{m} \\ y_i\\ \\log(h_\\theta(x_i)) + (1-y_i)\\ \\log(1-h_\\theta(x_i))\n",
    "\\right]\n",
    "\\end{equation*}"
   ]
  },
  {
   "cell_type": "code",
   "execution_count": null,
   "metadata": {
    "collapsed": true
   },
   "outputs": [],
   "source": []
  }
 ],
 "metadata": {
  "anaconda-cloud": {},
  "kernelspec": {
   "display_name": "Python [default]",
   "language": "python",
   "name": "python3"
  },
  "language_info": {
   "codemirror_mode": {
    "name": "ipython",
    "version": 3
   },
   "file_extension": ".py",
   "mimetype": "text/x-python",
   "name": "python",
   "nbconvert_exporter": "python",
   "pygments_lexer": "ipython3",
   "version": "3.5.2"
  }
 },
 "nbformat": 4,
 "nbformat_minor": 2
}
