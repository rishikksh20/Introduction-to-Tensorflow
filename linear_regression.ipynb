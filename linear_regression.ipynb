{
 "cells": [
  {
   "cell_type": "markdown",
   "metadata": {
    "collapsed": true
   },
   "source": [
    "# Linear Regression"
   ]
  },
  {
   "cell_type": "markdown",
   "metadata": {},
   "source": [
    "Linear regression is a technique that measures the relationship between two variables. If we have an independent variable $X$, and a dependent outcome variable $Y$, linear regression allows us to determine which linear model $Y = \\alpha + \\beta X$ best explains the data. "
   ]
  },
  {
   "cell_type": "markdown",
   "metadata": {},
   "source": [
    "## Equation : *Y=wX+b*\n",
    "## Cost Function: \n",
    "\\begin{equation*}\n",
    "  Cost = \\frac{\\sum_{k=1}^n \\left( Y_p - Y_e \\right)^2}{2 * number\\_of\\_samples } \n",
    "\\end{equation*}\n",
    "\\begin{align}\n",
    " where: \\\n",
    "\\ Y_p = predicted\\ output \\\n",
    "\\ Y_e = expected\\ output\n",
    "\\end{align}\n",
    "\n",
    "\n"
   ]
  },
  {
   "cell_type": "code",
   "execution_count": 1,
   "metadata": {
    "collapsed": true
   },
   "outputs": [],
   "source": [
    "%matplotlib inline\n",
    "import numpy as np\n",
    "import tensorflow as tf\n",
    "import matplotlib.pyplot as plt"
   ]
  },
  {
   "cell_type": "code",
   "execution_count": 2,
   "metadata": {
    "collapsed": false
   },
   "outputs": [],
   "source": [
    "# Training Data\n",
    "train_X = np.asarray([3.3,4.4,5.5,6.71,6.93,4.168,9.779,6.182,7.59,2.167,\n",
    "                         7.042,10.791,5.313,7.997,5.654,9.27,3.1])\n",
    "train_Y = np.asarray([1.7,2.76,2.09,3.19,1.694,1.573,3.366,2.596,2.53,1.221,\n",
    "                         2.827,3.465,1.65,2.904,2.42,2.94,1.3])\n",
    "n_samples = train_X.shape[0]"
   ]
  },
  {
   "cell_type": "code",
   "execution_count": 3,
   "metadata": {
    "collapsed": false
   },
   "outputs": [
    {
     "data": {
      "text/plain": [
       "<matplotlib.collections.PathCollection at 0x192dba5a5c0>"
      ]
     },
     "execution_count": 3,
     "metadata": {},
     "output_type": "execute_result"
    },
    {
     "data": {
      "image/png": "[encoded data removed]",
      "text/plain": [
       "<matplotlib.figure.Figure at 0x192d750d438>"
      ]
     },
     "metadata": {},
     "output_type": "display_data"
    }
   ],
   "source": [
    "plt.scatter(train_X,train_Y)"
   ]
  },
  {
   "cell_type": "code",
   "execution_count": 4,
   "metadata": {
    "collapsed": true
   },
   "outputs": [],
   "source": [
    "# tf.placeholders for the input and output of the network. Placeholders are\n",
    "# variables which we need to fill in when we are ready to compute the graph.\n",
    "X = tf.placeholder(tf.float32)\n",
    "Y = tf.placeholder(tf.float32)"
   ]
  },
  {
   "cell_type": "code",
   "execution_count": 5,
   "metadata": {
    "collapsed": true
   },
   "outputs": [],
   "source": [
    "W = tf.Variable(tf.random_normal([1]), name='weight')\n",
    "b = tf.Variable(tf.random_normal([1]), name='bias')"
   ]
  },
  {
   "cell_type": "markdown",
   "metadata": {},
   "source": [
    "### Equation : *pred = wX + b* :"
   ]
  },
  {
   "cell_type": "code",
   "execution_count": 6,
   "metadata": {
    "collapsed": true
   },
   "outputs": [],
   "source": [
    "pred = tf.add(tf.mul(X, W), b)"
   ]
  },
  {
   "cell_type": "markdown",
   "metadata": {},
   "source": [
    "\\begin{equation*}\n",
    "  Cost = \\frac{\\sum_{k=1}^n \\left( pred - Y \\right)^2}{2 * n\\_samples } \n",
    "\\end{equation*}"
   ]
  },
  {
   "cell_type": "code",
   "execution_count": 7,
   "metadata": {
    "collapsed": true
   },
   "outputs": [],
   "source": [
    "# Mean squared error\n",
    "cost = tf.reduce_sum(tf.pow(pred-Y, 2))/(2*n_samples)"
   ]
  },
  {
   "cell_type": "code",
   "execution_count": 9,
   "metadata": {
    "collapsed": true
   },
   "outputs": [],
   "source": [
    "# %% Use gradient descent to optimize W,b\n",
    "\n",
    "learning_rate = 0.01\n",
    "\n",
    "# Gradient descent\n",
    "optimizer = tf.train.GradientDescentOptimizer(learning_rate).minimize(cost)"
   ]
  },
  {
   "cell_type": "code",
   "execution_count": 10,
   "metadata": {
    "collapsed": true
   },
   "outputs": [],
   "source": [
    "# Initializing the variables\n",
    "init = tf.global_variables_initializer()"
   ]
  },
  {
   "cell_type": "code",
   "execution_count": 12,
   "metadata": {
    "collapsed": false,
    "scrolled": false
   },
   "outputs": [
    {
     "name": "stdout",
     "output_type": "stream",
     "text": [
      "Epoch: 0050 cost= 0.079078563 W= [ 0.2753447] b= [ 0.61621505]\n",
      "Epoch: 0100 cost= 0.078835487 W= [ 0.27381328] b= [ 0.62723148]\n",
      "Epoch: 0150 cost= 0.078620605 W= [ 0.27237293] b= [ 0.63759291]\n",
      "Epoch: 0200 cost= 0.078430593 W= [ 0.27101827] b= [ 0.64733869]\n",
      "Epoch: 0250 cost= 0.078262679 W= [ 0.26974425] b= [ 0.65650386]\n",
      "Epoch: 0300 cost= 0.078114204 W= [ 0.26854593] b= [ 0.66512483]\n",
      "Epoch: 0350 cost= 0.077982955 W= [ 0.2674188] b= [ 0.67323327]\n",
      "Epoch: 0400 cost= 0.077866964 W= [ 0.26635864] b= [ 0.6808601]\n",
      "Epoch: 0450 cost= 0.077764437 W= [ 0.26536143] b= [ 0.6880334]\n",
      "Epoch: 0500 cost= 0.077673845 W= [ 0.26442367] b= [ 0.69477963]\n",
      "Epoch: 0550 cost= 0.077593751 W= [ 0.26354167] b= [ 0.70112562]\n",
      "Epoch: 0600 cost= 0.077522978 W= [ 0.262712] b= [ 0.70709389]\n",
      "Epoch: 0650 cost= 0.077460468 W= [ 0.26193175] b= [ 0.71270651]\n",
      "Epoch: 0700 cost= 0.077405214 W= [ 0.26119801] b= [ 0.71798551]\n",
      "Epoch: 0750 cost= 0.077356428 W= [ 0.2605077] b= [ 0.72295088]\n",
      "Epoch: 0800 cost= 0.077313319 W= [ 0.25985855] b= [ 0.7276209]\n",
      "Epoch: 0850 cost= 0.077275217 W= [ 0.25924808] b= [ 0.73201334]\n",
      "Epoch: 0900 cost= 0.077241577 W= [ 0.25867373] b= [ 0.7361446]\n",
      "Epoch: 0950 cost= 0.077211872 W= [ 0.25813353] b= [ 0.74003071]\n",
      "Epoch: 1000 cost= 0.077185631 W= [ 0.25762558] b= [ 0.74368513]\n",
      "Optimization Finished!\n",
      "Training cost= 0.0771856 W= [ 0.25762558] b= [ 0.74368513] \n",
      "\n"
     ]
    },
    {
     "data": {
      "image/png": "[encoded data removed]",
      "text/plain": [
       "<matplotlib.figure.Figure at 0x192d94f1358>"
      ]
     },
     "metadata": {},
     "output_type": "display_data"
    }
   ],
   "source": [
    "# %% We create a session to use the graph\n",
    "n_epochs = 1000\n",
    "display_step=50\n",
    "# Launch the graph\n",
    "with tf.Session() as sess:\n",
    "    sess.run(init)\n",
    "\n",
    "    # Fit all training data\n",
    "    for epoch in range(n_epochs):\n",
    "        for (x, y) in zip(train_X, train_Y):\n",
    "            sess.run(optimizer, feed_dict={X: x, Y: y})\n",
    "\n",
    "        #Display logs per epoch step\n",
    "        if (epoch+1) % display_step == 0:\n",
    "            c = sess.run(cost, feed_dict={X: train_X, Y:train_Y})\n",
    "            print (\"Epoch:\", '%04d' % (epoch+1), \"cost=\", \"{:.9f}\".format(c), \\\n",
    "                \"W=\", sess.run(W), \"b=\", sess.run(b))\n",
    "\n",
    "    print (\"Optimization Finished!\")\n",
    "    training_cost = sess.run(cost, feed_dict={X: train_X, Y: train_Y})\n",
    "    print (\"Training cost=\", training_cost, \"W=\", sess.run(W), \"b=\", sess.run(b), '\\n')\n",
    "\n",
    "    #Graphic display\n",
    "    plt.plot(train_X, train_Y, 'ro', label='Original data')\n",
    "    plt.plot(train_X, sess.run(W) * train_X + sess.run(b), label='Fitted line')\n",
    "    plt.legend()\n",
    "    plt.show()"
   ]
  },
  {
   "cell_type": "code",
   "execution_count": null,
   "metadata": {
    "collapsed": true
   },
   "outputs": [],
   "source": []
  }
 ],
 "metadata": {
  "kernelspec": {
   "display_name": "Python [default]",
   "language": "python",
   "name": "python3"
  },
  "language_info": {
   "codemirror_mode": {
    "name": "ipython",
    "version": 3
   },
   "file_extension": ".py",
   "mimetype": "text/x-python",
   "name": "python",
   "nbconvert_exporter": "python",
   "pygments_lexer": "ipython3",
   "version": "3.5.2"
  }
 },
 "nbformat": 4,
 "nbformat_minor": 1
}
